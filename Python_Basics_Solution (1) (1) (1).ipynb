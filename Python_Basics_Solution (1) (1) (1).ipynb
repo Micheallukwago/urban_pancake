{
 "cells": [
  {
   "cell_type": "code",
   "execution_count": 4,
   "id": "1adc9008",
   "metadata": {
    "id": "1adc9008"
   },
   "outputs": [
    {
     "ename": "ModuleNotFoundError",
     "evalue": "No module named 'nampy'",
     "output_type": "error",
     "traceback": [
      "\u001b[1;31m---------------------------------------------------------------------------\u001b[0m",
      "\u001b[1;31mModuleNotFoundError\u001b[0m                       Traceback (most recent call last)",
      "Input \u001b[1;32mIn [4]\u001b[0m, in \u001b[0;36m<cell line: 1>\u001b[1;34m()\u001b[0m\n\u001b[1;32m----> 1\u001b[0m \u001b[38;5;28;01mimport\u001b[39;00m \u001b[38;5;21;01mnampy\u001b[39;00m \u001b[38;5;28;01mas\u001b[39;00m \u001b[38;5;21;01mnp\u001b[39;00m\n\u001b[0;32m      2\u001b[0m X\u001b[38;5;241m=\u001b[39mnp\u001b[38;5;241m.\u001b[39marray([[\u001b[38;5;241m1\u001b[39m,\u001b[38;5;241m0\u001b[39m,\u001b[38;5;241m1\u001b[39m],[\u001b[38;5;241m2\u001b[39m,\u001b[38;5;241m2\u001b[39m,\u001b[38;5;241m2\u001b[39m]]) \n\u001b[0;32m      3\u001b[0m x\n",
      "\u001b[1;31mModuleNotFoundError\u001b[0m: No module named 'nampy'"
     ]
    }
   ],
   "source": [
    "import nampy as np\n",
    "X=np.array([[1,0,1],[2,2,2]]) \n",
    "x\n"
   ]
  },
  {
   "cell_type": "code",
   "execution_count": 3,
   "id": "3113c391",
   "metadata": {
    "id": "3113c391"
   },
   "outputs": [
    {
     "name": "stdout",
     "output_type": "stream",
     "text": [
      "513\n"
     ]
    }
   ],
   "source": [
    "##Write a Python code to declare variable id=\"513\".\n",
    "#Print the following statement \"customer id =513\". [Don't use print(\"customer id\")]\n",
    "customer_id = \"513\"\n",
    "print((customer_id))"
   ]
  },
  {
   "cell_type": "code",
   "execution_count": 9,
   "id": "b5d2e8a7",
   "metadata": {
    "id": "b5d2e8a7"
   },
   "outputs": [
    {
     "name": "stdout",
     "output_type": "stream",
     "text": [
      "<class 'str'>\n",
      "<class 'int'>\n"
     ]
    }
   ],
   "source": [
    "#Run the following statement, why there is an error\n"
   ]
  },
  {
   "cell_type": "code",
   "execution_count": 8,
   "id": "22a8882f",
   "metadata": {
    "id": "22a8882f"
   },
   "outputs": [
    {
     "data": {
      "text/plain": [
       "514"
      ]
     },
     "execution_count": 8,
     "metadata": {},
     "output_type": "execute_result"
    }
   ],
   "source": [
    "#Convert the variable id into an integer, increment it by 1.\n",
    "#Assign the result to variable new_id.\n",
    "#Print the new_id\n",
    "id = \"513\"\n",
    "new_id = int(id) + 1\n",
    "new_id\n"
   ]
  },
  {
   "cell_type": "code",
   "execution_count": 11,
   "id": "a85af7d0",
   "metadata": {
    "id": "a85af7d0"
   },
   "outputs": [
    {
     "name": "stdout",
     "output_type": "stream",
     "text": [
      "Twinkle, twinkle, little star, \n",
      "How I wonder what you are! \n",
      "Up above the world so high, \n",
      "Like a diamond in the sky. \n",
      "\n"
     ]
    }
   ],
   "source": [
    "#Write a Python code to print the following string in a specific format (see the\n",
    "# Twinkle, twinkle, little star,\n",
    "# How I wonder what you are!\n",
    "# Up above the world so high,\n",
    "# Like a diamond in the sky.\n",
    "print(\"Twinkle, twinkle, little star, \\nHow I wonder what you are! \\nUp above the world so high, \\nLike a diamond in the sky. \\n\")\n"
   ]
  },
  {
   "cell_type": "code",
   "execution_count": 12,
   "id": "a94fe25e",
   "metadata": {
    "id": "a94fe25e"
   },
   "outputs": [
    {
     "data": {
      "text/plain": [
       "'H'"
      ]
     },
     "execution_count": 12,
     "metadata": {},
     "output_type": "execute_result"
    }
   ],
   "source": [
    "#Givin the following string variable, # Print the first element in the string\n",
    "str = \"Hello\"\n",
    "str[0]"
   ]
  },
  {
   "cell_type": "code",
   "execution_count": 13,
   "id": "cff90c3a",
   "metadata": {
    "id": "cff90c3a"
   },
   "outputs": [
    {
     "data": {
      "text/plain": [
       "'r'"
      ]
     },
     "execution_count": 13,
     "metadata": {},
     "output_type": "execute_result"
    }
   ],
   "source": [
    "# Print the element on the 13th index in the string\n",
    "str = \"Hello Good Morning\"\n",
    "str[13]"
   ]
  },
  {
   "cell_type": "code",
   "execution_count": 14,
   "id": "0ab0d3c6",
   "metadata": {
    "id": "0ab0d3c6"
   },
   "outputs": [
    {
     "data": {
      "text/plain": [
       "18"
      ]
     },
     "execution_count": 14,
     "metadata": {},
     "output_type": "execute_result"
    }
   ],
   "source": [
    "# Find the length of string\n",
    "str = \"Hello Good Morning\"\n",
    "len(str)\n"
   ]
  },
  {
   "cell_type": "code",
   "execution_count": 15,
   "id": "e41f8839",
   "metadata": {
    "id": "e41f8839"
   },
   "outputs": [
    {
     "data": {
      "text/plain": [
       "'g'"
      ]
     },
     "execution_count": 15,
     "metadata": {},
     "output_type": "execute_result"
    }
   ],
   "source": [
    "#Print the last element in the string [use negative index]\n",
    "str = \"Hello Good Morning\"\n",
    "str[-1]"
   ]
  },
  {
   "cell_type": "code",
   "execution_count": 16,
   "id": "f3902644",
   "metadata": {
    "id": "f3902644"
   },
   "outputs": [
    {
     "data": {
      "text/plain": [
       "'Mor'"
      ]
     },
     "execution_count": 16,
     "metadata": {},
     "output_type": "execute_result"
    }
   ],
   "source": [
    "#Take the slice on variable course with only index 11 to index 14\n",
    "str = \"Hello Good Morning\"\n",
    "str[11:14]"
   ]
  },
  {
   "cell_type": "code",
   "execution_count": 22,
   "id": "dcf1859f",
   "metadata": {
    "id": "dcf1859f"
   },
   "outputs": [
    {
     "data": {
      "text/plain": [
       "'HlGdoi'"
      ]
     },
     "execution_count": 22,
     "metadata": {},
     "output_type": "execute_result"
    }
   ],
   "source": [
    "# Get every third element in the range from index 0 to index 20\n",
    "str = \"Hello Good Morning\"\n",
    "str[0:20:3]"
   ]
  },
  {
   "cell_type": "code",
   "execution_count": 23,
   "id": "342fab51",
   "metadata": {
    "id": "342fab51"
   },
   "outputs": [
    {
     "data": {
      "text/plain": [
       "'Hello Good Morning AI & Development'"
      ]
     },
     "execution_count": 23,
     "metadata": {},
     "output_type": "execute_result"
    }
   ],
   "source": [
    "# Concatenate course string with \", AI & Development\"\n",
    "str = \"Hello Good Morning\"\n",
    "course = str + \" AI & Development\"\n",
    "course"
   ]
  },
  {
   "cell_type": "code",
   "execution_count": 24,
   "id": "075697bb",
   "metadata": {
    "id": "075697bb"
   },
   "outputs": [
    {
     "data": {
      "text/plain": [
       "'Hello_Good_Morning_AI_&_Development'"
      ]
     },
     "execution_count": 24,
     "metadata": {},
     "output_type": "execute_result"
    }
   ],
   "source": [
    "# Replace all the spaces with (_). New string should looks like\"Python_for_Data_Science\n",
    "\n",
    "course.replace(\" \",\"_\")"
   ]
  },
  {
   "cell_type": "code",
   "execution_count": 25,
   "id": "488d1538",
   "metadata": {
    "id": "488d1538"
   },
   "outputs": [
    {
     "data": {
      "text/plain": [
       "'HELLO GOOD MORNING AI & DEVELOPMENT'"
      ]
     },
     "execution_count": 25,
     "metadata": {},
     "output_type": "execute_result"
    }
   ],
   "source": [
    "# Convert all the characters in string to upper case\n",
    "course.upper()"
   ]
  },
  {
   "cell_type": "code",
   "execution_count": 26,
   "id": "340b9e59",
   "metadata": {},
   "outputs": [
    {
     "data": {
      "text/plain": [
       "'Hello Good Morning AI & Development'"
      ]
     },
     "execution_count": 26,
     "metadata": {},
     "output_type": "execute_result"
    }
   ],
   "source": [
    "course"
   ]
  },
  {
   "cell_type": "code",
   "execution_count": 27,
   "id": "6ac6531f",
   "metadata": {},
   "outputs": [
    {
     "data": {
      "text/plain": [
       "10"
      ]
     },
     "execution_count": 27,
     "metadata": {},
     "output_type": "execute_result"
    }
   ],
   "source": [
    "L = [2,4,7,3,10]\n",
    "max(L)\n"
   ]
  },
  {
   "cell_type": "code",
   "execution_count": 28,
   "id": "db757e06",
   "metadata": {},
   "outputs": [
    {
     "data": {
      "text/plain": [
       "2"
      ]
     },
     "execution_count": 28,
     "metadata": {},
     "output_type": "execute_result"
    }
   ],
   "source": [
    "min(L)"
   ]
  },
  {
   "cell_type": "code",
   "execution_count": 29,
   "id": "7186f65c",
   "metadata": {},
   "outputs": [
    {
     "ename": "NameError",
     "evalue": "name 'sort' is not defined",
     "output_type": "error",
     "traceback": [
      "\u001b[1;31m---------------------------------------------------------------------------\u001b[0m",
      "\u001b[1;31mNameError\u001b[0m                                 Traceback (most recent call last)",
      "\u001b[1;32m~\\AppData\\Local\\Temp\\ipykernel_10156\\1383472626.py\u001b[0m in \u001b[0;36m<module>\u001b[1;34m\u001b[0m\n\u001b[1;32m----> 1\u001b[1;33m \u001b[0msort\u001b[0m\u001b[1;33m(\u001b[0m\u001b[0mL\u001b[0m\u001b[1;33m)\u001b[0m\u001b[1;33m\u001b[0m\u001b[1;33m\u001b[0m\u001b[0m\n\u001b[0m",
      "\u001b[1;31mNameError\u001b[0m: name 'sort' is not defined"
     ]
    }
   ],
   "source": []
  },
  {
   "cell_type": "code",
   "execution_count": 33,
   "id": "c4fe20f8",
   "metadata": {},
   "outputs": [
    {
     "name": "stdout",
     "output_type": "stream",
     "text": [
      "[1, 2, 3, 4, 6, 8, 9, 10, 12]\n"
     ]
    }
   ],
   "source": [
    "L = [3,2,6,1,8,4,9,12,10]\n",
    "L.sort()\n",
    "print(L)"
   ]
  },
  {
   "cell_type": "code",
   "execution_count": null,
   "id": "71cd93f9",
   "metadata": {},
   "outputs": [],
   "source": []
  }
 ],
 "metadata": {
  "colab": {
   "collapsed_sections": [],
   "provenance": []
  },
  "kernelspec": {
   "display_name": "Python 3 (ipykernel)",
   "language": "python",
   "name": "python3"
  },
  "language_info": {
   "codemirror_mode": {
    "name": "ipython",
    "version": 3
   },
   "file_extension": ".py",
   "mimetype": "text/x-python",
   "name": "python",
   "nbconvert_exporter": "python",
   "pygments_lexer": "ipython3",
   "version": "3.9.12"
  }
 },
 "nbformat": 4,
 "nbformat_minor": 5
}
